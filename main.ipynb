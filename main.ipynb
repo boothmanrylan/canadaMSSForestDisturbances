{
 "cells": [
  {
   "cell_type": "code",
   "execution_count": null,
   "id": "f8ce1b56-36d6-4220-af4a-c34dcdf82cda",
   "metadata": {
    "tags": []
   },
   "outputs": [],
   "source": [
    "%load_ext autoreload\n",
    "%autoreload 2\n",
    "\n",
    "import ee\n",
    "\n",
    "ee.Authenticate()\n",
    "ee.Initialize()"
   ]
  },
  {
   "cell_type": "code",
   "execution_count": null,
   "id": "29ad8546-7da5-493d-96be-3fff3f14ba35",
   "metadata": {
    "tags": []
   },
   "outputs": [],
   "source": [
    "import geemap\n",
    "\n",
    "from msslib import msslib\n",
    "from mss_forest_disturbances import data"
   ]
  },
  {
   "cell_type": "code",
   "execution_count": null,
   "id": "f8ad7a4e-64a2-487a-ac65-bc3aac1a3e17",
   "metadata": {
    "tags": []
   },
   "outputs": [],
   "source": [
    "Map = geemap.Map()\n",
    "Map"
   ]
  },
  {
   "cell_type": "code",
   "execution_count": null,
   "id": "56119387-0b6b-4dee-b9e4-354443c34aa8",
   "metadata": {
    "tags": []
   },
   "outputs": [],
   "source": [
    "Map.addLayer(\n",
    "    data.get_basemap(1992),\n",
    "    {'palette': ['black', 'green', 'blue']},\n",
    "    'Basemap 1992'\n",
    ")\n",
    "Map.addLayer(\n",
    "    data.get_landcover(1992).remap(*data.LANDCOVER_REMAP),\n",
    "    {'palette': data.LANDCOVER_PALETTE},\n",
    "    'Landcover 1992'\n",
    ")\n",
    "Map.addLayer(\n",
    "    data.get_disturbance_map(1992),\n",
    "    {'palette': ['black', 'red', 'green']},\n",
    "    'Forest Disturbances 1992'\n",
    ")             "
   ]
  },
  {
   "cell_type": "code",
   "execution_count": null,
   "id": "c56a9297-5fc9-4174-b3df-070253ceeb91",
   "metadata": {
    "tags": []
   },
   "outputs": [],
   "source": [
    "Map.addLayer(\n",
    "    data.get_landcover(1993).remap(*data.LANDCOVER_REMAP),\n",
    "    {'palette': data.LANDCOVER_PALETTE},\n",
    "    'Landcover 1993'\n",
    ")\n",
    "Map.addLayer(\n",
    "    data.get_disturbance_map(1993),\n",
    "    {'palette': ['black', 'red', 'green']},\n",
    "    'Disturbances 1993'\n",
    ")"
   ]
  }
 ],
 "metadata": {
  "kernelspec": {
   "display_name": "Python 3 (ipykernel)",
   "language": "python",
   "name": "python3"
  },
  "language_info": {
   "codemirror_mode": {
    "name": "ipython",
    "version": 3
   },
   "file_extension": ".py",
   "mimetype": "text/x-python",
   "name": "python",
   "nbconvert_exporter": "python",
   "pygments_lexer": "ipython3",
   "version": "3.9.16"
  }
 },
 "nbformat": 4,
 "nbformat_minor": 5
}
