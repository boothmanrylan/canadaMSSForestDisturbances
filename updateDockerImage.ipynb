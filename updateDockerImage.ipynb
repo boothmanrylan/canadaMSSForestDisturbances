{
  "nbformat": 4,
  "nbformat_minor": 0,
  "metadata": {
    "colab": {
      "private_outputs": true,
      "provenance": [],
      "authorship_tag": "ABX9TyOPQY+1284b1gm29lIz0Ctl",
      "include_colab_link": true
    },
    "kernelspec": {
      "name": "python3",
      "display_name": "Python 3"
    },
    "language_info": {
      "name": "python"
    }
  },
  "cells": [
    {
      "cell_type": "markdown",
      "metadata": {
        "id": "view-in-github",
        "colab_type": "text"
      },
      "source": [
        "<a href=\"https://colab.research.google.com/github/boothmanrylan/canadaMSSForestDisturbances/blob/main/updateDockerImage.ipynb\" target=\"_parent\"><img src=\"https://colab.research.google.com/assets/colab-badge.svg\" alt=\"Open In Colab\"/></a>"
      ]
    },
    {
      "cell_type": "markdown",
      "source": [
        "# Setup"
      ],
      "metadata": {
        "id": "KtTXEX6Jwktt"
      }
    },
    {
      "cell_type": "code",
      "execution_count": null,
      "metadata": {
        "id": "8WjMEv4nyfSj"
      },
      "outputs": [],
      "source": [
        "!git clone https://github.com/boothmanrylan/canadaMSSForestDisturbances.git\n",
        "%cd canadaMSSForestDisturbances"
      ]
    },
    {
      "cell_type": "code",
      "source": [
        "from mss_forest_disturbances import constants"
      ],
      "metadata": {
        "id": "2pDSyGNpzJe-"
      },
      "execution_count": null,
      "outputs": []
    },
    {
      "cell_type": "markdown",
      "source": [
        "# Update Docker Image\n",
        "\n",
        "This needs to be run if changes are made to the canada_mss_forest_disturbances module.\n"
      ],
      "metadata": {
        "id": "PAGublTjbmF7"
      }
    },
    {
      "cell_type": "code",
      "source": [
        "!gcloud artifacts docker images delete {constants.DOCKER_IMAGE_URI} --delete-tags\n",
        "!gcloud builds submit --tag {constants.DOCKER_IMAGE_URI} ."
      ],
      "metadata": {
        "id": "K4CJTrx3boZg"
      },
      "execution_count": null,
      "outputs": []
    }
  ]
}