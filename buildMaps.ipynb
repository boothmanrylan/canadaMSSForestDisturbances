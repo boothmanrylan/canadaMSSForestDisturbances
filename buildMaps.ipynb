{
  "nbformat": 4,
  "nbformat_minor": 0,
  "metadata": {
    "colab": {
      "private_outputs": true,
      "provenance": [],
      "authorship_tag": "ABX9TyMVQ55hrZxpa+U0Usr1QP0z",
      "include_colab_link": true
    },
    "kernelspec": {
      "name": "python3",
      "display_name": "Python 3"
    },
    "language_info": {
      "name": "python"
    }
  },
  "cells": [
    {
      "cell_type": "markdown",
      "metadata": {
        "id": "view-in-github",
        "colab_type": "text"
      },
      "source": [
        "<a href=\"https://colab.research.google.com/github/boothmanrylan/canadaMSSForestDisturbances/blob/main/buildMaps.ipynb\" target=\"_parent\"><img src=\"https://colab.research.google.com/assets/colab-badge.svg\" alt=\"Open In Colab\"/></a>"
      ]
    },
    {
      "cell_type": "markdown",
      "source": [
        "# Setup"
      ],
      "metadata": {
        "id": "KtTXEX6Jwktt"
      }
    },
    {
      "cell_type": "code",
      "execution_count": null,
      "metadata": {
        "id": "8WjMEv4nyfSj"
      },
      "outputs": [],
      "source": [
        "!git clone https://github.com/boothmanrylan/canadaMSSForestDisturbances.git\n",
        "%cd canadaMSSForestDisturbances"
      ]
    },
    {
      "cell_type": "code",
      "source": [
        "!pip install -q -q --upgrade pip\n",
        "!pip install -q -q \"apache-beam[gcp]==2.50.0\"\n",
        "!pip install -q -q msslib\n",
        "!pip install -q rasterio"
      ],
      "metadata": {
        "id": "zginFYkVZeCK"
      },
      "execution_count": null,
      "outputs": []
    },
    {
      "cell_type": "code",
      "source": [
        "%load_ext autoreload\n",
        "%autoreload 2"
      ],
      "metadata": {
        "id": "OWf3uVvDzBuv"
      },
      "execution_count": null,
      "outputs": []
    },
    {
      "cell_type": "code",
      "source": [
        "import os\n",
        "import io\n",
        "import itertools\n",
        "\n",
        "import google\n",
        "from google.colab import auth\n",
        "from google.api_core import retry\n",
        "\n",
        "import requests\n",
        "\n",
        "import ee\n",
        "import geemap\n",
        "import geopandas\n",
        "\n",
        "import numpy as np\n",
        "from numpy.lib import recfunctions as rfn\n",
        "import pandas as pd\n",
        "import tensorflow as tf\n",
        "\n",
        "import matplotlib.pyplot as plt\n",
        "\n",
        "from msslib import msslib\n",
        "from mss_forest_disturbances import constants"
      ],
      "metadata": {
        "id": "2pDSyGNpzJe-"
      },
      "execution_count": null,
      "outputs": []
    },
    {
      "cell_type": "code",
      "source": [
        "auth.authenticate_user()\n",
        "\n",
        "os.environ['GOOGLE_CLOUD_PROJECT'] = constants.PROJECT\n",
        "!gcloud config set project {constants.PROJECT}\n",
        "\n",
        "credentials, _ = google.auth.default()\n",
        "ee.Initialize(\n",
        "    credentials,\n",
        "    project=constants.PROJECT,\n",
        "    opt_url=constants.HIGH_VOLUME_ENDPOINT\n",
        ")"
      ],
      "metadata": {
        "id": "PSg_kqrufSC_"
      },
      "execution_count": null,
      "outputs": []
    },
    {
      "cell_type": "code",
      "source": [
        "temp_location = os.path.join(constants.BUCKET, 'temp')\n",
        "staging_location = os.path.join(constants.BUCKET, 'staging')\n",
        "\n",
        "input_asset = os.path.join(constants.ASSET_PATH, 'data', 'model2', 'train')\n",
        "output_prefix = os.path.join(constants.BUCKET, 'scratch', 'test_build_maps', 'final_output')\n",
        "model_checkpoint_path = os.path.join(constants.BUCKET, 'scratch', 'models', 'test2', 'checkpoints')\n",
        "model_one_output_prefix = os.path.join(constants.BUCKET, 'scratch', 'test_build_maps', 'model_one_output')\n",
        "start_year = 1985\n",
        "end_year = 1990\n",
        "\n",
        "!python build_maps.py \\\n",
        "    --runner=\"DirectRunner\" \\\n",
        "    --project={constants.PROJECT} \\\n",
        "    --job_name='test-build-maps' \\\n",
        "    --region='us-central1' \\\n",
        "    --max-requests=20 \\\n",
        "    --input-asset={input_asset} \\\n",
        "    --output-prefix={output_prefix} \\\n",
        "    --model-checkpoint-path={model_checkpoint_path} \\\n",
        "    --model-one-output-prefix={model_one_output_prefix} \\\n",
        "    --start-year={start_year} \\\n",
        "    --end-year={end_year} \\\n",
        "    # --experiments=use_runner_v2 \\\n",
        "    # --sdk_container_image={constants.DOCKER_IMAGE_URI} \\\n",
        "    # --sdk_location=container \\\n",
        "    # --temp_location={temp_location} \\\n",
        "    # --staging_location={staging_location} \\"
      ],
      "metadata": {
        "id": "SvSw1CCjcz4J"
      },
      "execution_count": null,
      "outputs": []
    }
  ]
}